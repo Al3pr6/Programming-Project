{
  "nbformat": 4,
  "nbformat_minor": 0,
  "metadata": {
    "colab": {
      "provenance": [],
      "collapsed_sections": [
        "-7v5pJg20W3P",
        "Horrxr0r0rGb",
        "Iqvku4LF07HE"
      ],
      "include_colab_link": true
    },
    "kernelspec": {
      "name": "python3",
      "display_name": "Python 3"
    },
    "language_info": {
      "name": "python"
    }
  },
  "cells": [
    {
      "cell_type": "markdown",
      "metadata": {
        "id": "view-in-github",
        "colab_type": "text"
      },
      "source": [
        "<a href=\"https://colab.research.google.com/github/Al3pr6/Programming-Project/blob/Release-v-0.3.1/Proyecto_III_Etapa.ipynb\" target=\"_parent\"><img src=\"https://colab.research.google.com/assets/colab-badge.svg\" alt=\"Open In Colab\"/></a>"
      ]
    },
    {
      "cell_type": "markdown",
      "metadata": {
        "id": "WiHwhkjUJDi3"
      },
      "source": [
        "# Instituto Tecnológico de Costa Rica | TEC\n",
        "# Carrera de Ingeniería en Computación \n",
        "# I Semestre de 2023\n",
        "# Proyecto Programado (III Fase – Entrevistador asistido por IA) \n",
        "# Dr. Abel Méndez Porras\n",
        "# amendez@itcr.ac.cr\n",
        "# Porcentaje: 20%"
      ]
    },
    {
      "cell_type": "markdown",
      "source": [
        "# Entrevistador asistido por IA\n",
        "\n"
      ],
      "metadata": {
        "id": "bLtEFwW88r6C"
      }
    },
    {
      "cell_type": "markdown",
      "source": [
        "El reconocimiento facial y la detección de emociones son tecnologías que se han vuelto cada vez más populares en los últimos años. Estas tecnologías utilizan algoritmos de inteligencia artificial para analizar imágenes y detectar patrones faciales que permiten identificar a las personas y sus emociones.\n",
        "En cuanto a las oportunidades, el reconocimiento facial puede tener aplicaciones en la seguridad, el marketing y la atención al cliente. Por ejemplo, en la seguridad se pueden utilizar sistemas de reconocimiento facial para identificar a personas en lugares públicos o para controlar el acceso a edificios y sistemas de seguridad. En el marketing, se pueden utilizar para personalizar la publicidad en función de la edad, el género y otros datos demográficos. Y en la atención al cliente, se pueden utilizar para detectar la satisfacción del cliente en tiempo real y responder adecuadamente.\n",
        "\n",
        "En esta tercera fase del proyecto del curso de Taller de Programación estaremos utilizando los resultados de consultas a modelos de Deep Learning para aplicar los conocimientos adquiridos en clase. Estaremos utilizando los requerimientos desarrollados para la segunda fase del proyecto. Sin embargo, se estarán utilizando widgets para hacer la recolección y mostrar la información para cada requerimiento desarrollado en la segunda fase. Además, se incluyen el manejo de árboles binarios para hacer busqueda de información. "
      ],
      "metadata": {
        "id": "nTAGLkSC_tPv"
      }
    },
    {
      "cell_type": "markdown",
      "source": [
        "## Objetivo\n",
        "Desarrollar una aplicación de complejidad baja que permita poner en práctica los conocimientos adquiridos en los cursos de Introducción a la Programación y Taller de Programación.\n",
        "\n",
        "## Objetivos Específicos\n",
        "*  Identificar los requerimientos para resolver un problema específico desde la perspectiva de resolución de problemas, técnicas con listas, diccionarios, clases, objetos, archivos, árboles binarios y widgets.\n",
        "*  Diseñar una aplicación para un problema específico desde la perspectiva de resolución de problemas, técnicas con listas, diccionarios, clases, objetos, archivos, árboles binarios y widgets.\n",
        "*  Desarrollar una aplicación para un problema específico desde la perspectiva de resolución de problemas, técnicas con listas, diccionarios, clases, objetos, archivos, árboles binarios y widgets."
      ],
      "metadata": {
        "id": "BluCjMmS3ySE"
      }
    },
    {
      "cell_type": "markdown",
      "source": [
        "## Configuración previa "
      ],
      "metadata": {
        "id": "CsQAX0tRIPs_"
      }
    },
    {
      "cell_type": "markdown",
      "source": [
        "### Cargar Google Drive"
      ],
      "metadata": {
        "id": "BKtEWO28-Psm"
      }
    },
    {
      "cell_type": "code",
      "metadata": {
        "id": "WRct28jc9-Zk",
        "colab": {
          "base_uri": "https://localhost:8080/"
        },
        "outputId": "4f82bb43-0028-4734-c36d-9385259fe14e"
      },
      "source": [
        "from google.colab import drive\n",
        "drive.mount('/content/drive')"
      ],
      "execution_count": 1,
      "outputs": [
        {
          "output_type": "stream",
          "name": "stdout",
          "text": [
            "Mounted at /content/drive\n"
          ]
        }
      ]
    },
    {
      "cell_type": "markdown",
      "source": [
        "### Leer cámara\n",
        "Tomado de https://colab.research.google.com/drive/1QnC7lV7oVFk5OZCm75fqbLAfD9qBy9bw?usp=sharing#scrollTo=ilLkpcKanPRb\n",
        "\n"
      ],
      "metadata": {
        "id": "qcsaTisaz7gf"
      }
    },
    {
      "cell_type": "markdown",
      "source": [
        "### Importar dependencies"
      ],
      "metadata": {
        "id": "-7v5pJg20W3P"
      }
    },
    {
      "cell_type": "code",
      "source": [
        "# import dependencies\n",
        "from IPython.display import display, Javascript, Image\n",
        "from google.colab.output import eval_js\n",
        "from base64 import b64decode, b64encode\n",
        "from ipywidgets import widgets\n",
        "import cv2\n",
        "import numpy as np\n",
        "import PIL\n",
        "import io\n",
        "import html\n",
        "import time\n",
        "import pickle\n",
        "import os\n",
        "import shutil\n",
        "import gdown"
      ],
      "metadata": {
        "id": "sFbwWU1E0RuG"
      },
      "execution_count": 2,
      "outputs": []
    },
    {
      "cell_type": "markdown",
      "source": [
        "### Convertir el objeto JavaScript un objeto OpenCV image"
      ],
      "metadata": {
        "id": "Horrxr0r0rGb"
      }
    },
    {
      "cell_type": "code",
      "source": [
        "# function to convert the JavaScript object into an OpenCV image\n",
        "def js_to_image(js_reply):\n",
        "  \"\"\"\n",
        "  Params:\n",
        "          js_reply: JavaScript object containing image from webcam\n",
        "  Returns:\n",
        "          img: OpenCV BGR image\n",
        "  \"\"\"\n",
        "  # decode base64 image\n",
        "  image_bytes = b64decode(js_reply.split(',')[1])\n",
        "  # convert bytes to numpy array\n",
        "  jpg_as_np = np.frombuffer(image_bytes, dtype=np.uint8)\n",
        "  # decode numpy array into OpenCV BGR image\n",
        "  img = cv2.imdecode(jpg_as_np, flags=1)\n",
        "\n",
        "  return img\n",
        "\n",
        "# function to convert OpenCV Rectangle bounding box image into base64 byte string to be overlayed on video stream\n",
        "def bbox_to_bytes(bbox_array):\n",
        "  \"\"\"\n",
        "  Params:\n",
        "          bbox_array: Numpy array (pixels) containing rectangle to overlay on video stream.\n",
        "  Returns:\n",
        "        bytes: Base64 image byte string\n",
        "  \"\"\"\n",
        "  # convert array into PIL image\n",
        "  bbox_PIL = PIL.Image.fromarray(bbox_array, 'RGBA')\n",
        "  iobuf = io.BytesIO()\n",
        "  # format bbox into png for return\n",
        "  bbox_PIL.save(iobuf, format='png')\n",
        "  # format return string\n",
        "  bbox_bytes = 'data:image/png;base64,{}'.format((str(b64encode(iobuf.getvalue()), 'utf-8')))\n",
        "\n",
        "  return bbox_bytes"
      ],
      "metadata": {
        "id": "zgaKzXQP0no3"
      },
      "execution_count": 3,
      "outputs": []
    },
    {
      "cell_type": "markdown",
      "source": [
        "### Crear nuestro live video stream"
      ],
      "metadata": {
        "id": "Iqvku4LF07HE"
      }
    },
    {
      "cell_type": "code",
      "source": [
        "# JavaScript to properly create our live video stream using our webcam as input\n",
        "def video_stream():\n",
        "  js = Javascript('''\n",
        "    var video;\n",
        "    var div = null;\n",
        "    var stream;\n",
        "    var captureCanvas;\n",
        "    var imgElement;\n",
        "    var labelElement;\n",
        "    \n",
        "    var pendingResolve = null;\n",
        "    var shutdown = false;\n",
        "    \n",
        "    function removeDom() {\n",
        "       stream.getVideoTracks()[0].stop();\n",
        "       video.remove();\n",
        "       div.remove();\n",
        "       video = null;\n",
        "       div = null;\n",
        "       stream = null;\n",
        "       imgElement = null;\n",
        "       captureCanvas = null;\n",
        "       labelElement = null;\n",
        "    }\n",
        "    \n",
        "    function onAnimationFrame() {\n",
        "      if (!shutdown) {\n",
        "        window.requestAnimationFrame(onAnimationFrame);\n",
        "      }\n",
        "      if (pendingResolve) {\n",
        "        var result = \"\";\n",
        "        if (!shutdown) {\n",
        "          captureCanvas.getContext('2d').drawImage(video, 0, 0, 640, 480);\n",
        "          result = captureCanvas.toDataURL('image/jpeg', 0.8)\n",
        "        }\n",
        "        var lp = pendingResolve;\n",
        "        pendingResolve = null;\n",
        "        lp(result);\n",
        "      }\n",
        "    }\n",
        "    \n",
        "    async function createDom() {\n",
        "      if (div !== null) {\n",
        "        return stream;\n",
        "      }\n",
        "\n",
        "      div = document.createElement('div');\n",
        "      div.style.border = '2px solid black';\n",
        "      div.style.padding = '3px';\n",
        "      div.style.width = '100%';\n",
        "      div.style.maxWidth = '600px';\n",
        "      document.body.appendChild(div);\n",
        "      \n",
        "      const modelOut = document.createElement('div');\n",
        "      modelOut.innerHTML = \"<span>Status:</span>\";\n",
        "      labelElement = document.createElement('span');\n",
        "      labelElement.innerText = 'No data';\n",
        "      labelElement.style.fontWeight = 'bold';\n",
        "      modelOut.appendChild(labelElement);\n",
        "      div.appendChild(modelOut);\n",
        "           \n",
        "      video = document.createElement('video');\n",
        "      video.style.display = 'block';\n",
        "      video.width = div.clientWidth - 6;\n",
        "      video.setAttribute('playsinline', '');\n",
        "      video.onclick = () => { shutdown = true; };\n",
        "      stream = await navigator.mediaDevices.getUserMedia(\n",
        "          {video: { facingMode: \"environment\"}});\n",
        "      div.appendChild(video);\n",
        "\n",
        "      imgElement = document.createElement('img');\n",
        "      imgElement.style.position = 'absolute';\n",
        "      imgElement.style.zIndex = 1;\n",
        "      imgElement.onclick = () => { shutdown = true; };\n",
        "      div.appendChild(imgElement);\n",
        "      \n",
        "      const instruction = document.createElement('div');\n",
        "      instruction.innerHTML = \n",
        "          '<span style=\"color: red; font-weight: bold;\">' +\n",
        "          'When finished, click here or on the video to stop this demo</span>';\n",
        "      div.appendChild(instruction);\n",
        "      instruction.onclick = () => { shutdown = true; };\n",
        "      \n",
        "      video.srcObject = stream;\n",
        "      await video.play();\n",
        "\n",
        "      captureCanvas = document.createElement('canvas');\n",
        "      captureCanvas.width = 640; //video.videoWidth;\n",
        "      captureCanvas.height = 480; //video.videoHeight;\n",
        "      window.requestAnimationFrame(onAnimationFrame);\n",
        "      \n",
        "      return stream;\n",
        "    }\n",
        "    async function stream_frame(label, imgData) {\n",
        "      if (shutdown) {\n",
        "        removeDom();\n",
        "        shutdown = false;\n",
        "        return '';\n",
        "      }\n",
        "\n",
        "      var preCreate = Date.now();\n",
        "      stream = await createDom();\n",
        "      \n",
        "      var preShow = Date.now();\n",
        "      if (label != \"\") {\n",
        "        labelElement.innerHTML = label;\n",
        "      }\n",
        "            \n",
        "      if (imgData != \"\") {\n",
        "        var videoRect = video.getClientRects()[0];\n",
        "        imgElement.style.top = videoRect.top + \"px\";\n",
        "        imgElement.style.left = videoRect.left + \"px\";\n",
        "        imgElement.style.width = videoRect.width + \"px\";\n",
        "        imgElement.style.height = videoRect.height + \"px\";\n",
        "        imgElement.src = imgData;\n",
        "      }\n",
        "      \n",
        "      var preCapture = Date.now();\n",
        "      var result = await new Promise(function(resolve, reject) {\n",
        "        pendingResolve = resolve;\n",
        "      });\n",
        "      shutdown = false;\n",
        "      \n",
        "      return {'create': preShow - preCreate, \n",
        "              'show': preCapture - preShow, \n",
        "              'capture': Date.now() - preCapture,\n",
        "              'img': result};\n",
        "    }\n",
        "    ''')\n",
        "\n",
        "  display(js)\n",
        "  \n",
        "def video_frame(label, bbox):\n",
        "  data = eval_js('stream_frame(\"{}\", \"{}\")'.format(label, bbox))\n",
        "  return data"
      ],
      "metadata": {
        "id": "ud8m7Jqf010R"
      },
      "execution_count": 4,
      "outputs": []
    },
    {
      "cell_type": "markdown",
      "source": [
        "### Iniciar streaming video"
      ],
      "metadata": {
        "id": "zthi61JB1MUn"
      }
    },
    {
      "cell_type": "code",
      "source": [
        "import cv2\n",
        "import numpy as np\n",
        "from matplotlib import pyplot as plt\n",
        "from PIL import Image, ImageDraw, ImageFont"
      ],
      "metadata": {
        "id": "ZrXBaQowmi25"
      },
      "execution_count": 5,
      "outputs": []
    },
    {
      "cell_type": "code",
      "source": [
        "import cv2\n",
        "import numpy as np\n",
        "import tensorflow as tf\n",
        "from keras.models import model_from_json"
      ],
      "metadata": {
        "id": "79ydx6jivUDo"
      },
      "execution_count": null,
      "outputs": []
    },
    {
      "cell_type": "markdown",
      "source": [
        "### Cargar modelos de Deep Learning entrenados"
      ],
      "metadata": {
        "id": "-PYe1k24Alu1"
      }
    },
    {
      "cell_type": "markdown",
      "source": [
        "*   Para detectar los rostros se utiliza el modelo de Face Haar Cascade.\n",
        "*   Para detectar las emociones se utiliza el modelo de VGG.\n",
        "*   También se utiliza un algoritmo adicional para pasar la información del algortimo de VGG a un formato JSON.\n",
        "\n",
        "Estos modelos y algoritmos están disponibles en el siguiente enlace [Descargar modelos y algoritmos](https://drive.google.com/drive/folders/1KctA_s25bqqMOUlQuy0lwTm0HkBGVycF?usp=sharing). Usted los debe colocar en su Google Drive y modificar la ruta de acceso. \n",
        "\n"
      ],
      "metadata": {
        "id": "SFuMVQbFBG_u"
      }
    },
    {
      "cell_type": "code",
      "source": [
        "#Cargar modelos de Deep Learning entrenados\n",
        "face_haar_cascade = cv2.CascadeClassifier('/content/drive/MyDrive/Intro/Proyecto/haarcascade_frontalface_alt.xml') \n",
        "model = model_from_json(open(\"/content/drive/MyDrive/Intro/Proyecto/model.json\", \"r\").read()) \n",
        "model.load_weights('/content/drive/MyDrive/Intro/Proyecto/model.h5')"
      ],
      "metadata": {
        "id": "e1w94AggiPn4"
      },
      "execution_count": null,
      "outputs": []
    },
    {
      "cell_type": "markdown",
      "source": [
        "Crear interfaz\n",
        "https://www.youtube.com/watch?v=oIVmV41uyK8"
      ],
      "metadata": {
        "id": "K_5yU73nzHJR"
      }
    },
    {
      "cell_type": "markdown",
      "source": [
        "#Perfiles del Entrevistador Personal"
      ],
      "metadata": {
        "id": "aV92oOkb4Qcc"
      }
    },
    {
      "cell_type": "markdown",
      "source": [
        "El entrevistador personal es una herramienta para recolectar información de personas que están aplicando a un puesto. En la aplicación existen tres perfiles el entrevistador, el entrevistado y el evaluador. La información de estos perfiles debe ser almacenada en clases y usando herencia. Debe existir una clase \"padre\" que tiene propiedades y métodos que comparten todos los perfiles. Para cada perfil debe existir una clase subordinada que hereda las propiedades de la clase \"padre\", además, tiene sus propias propiedades y métodos."
      ],
      "metadata": {
        "id": "xudDbBTKF31q"
      }
    },
    {
      "cell_type": "markdown",
      "source": [
        "##Cargar Archivos"
      ],
      "metadata": {
        "id": "oqq6ZNsochJD"
      }
    },
    {
      "cell_type": "code",
      "source": [
        "archivo_drive = '/content/drive/MyDrive/Intro/Proyecto/Archivo_Entrevistador'\n",
        "destino_colab = '/content/Archivo_Entrevistador'\n",
        "shutil.copyfile(archivo_drive, destino_colab)\n",
        "\n",
        "# Archivo Evaluador\n",
        "archivo_drive = '/content/drive/MyDrive/Intro/Proyecto/Archivo_Evaluador'\n",
        "destino_colab = '/content/Archivo_Evaluador'\n",
        "shutil.copyfile(archivo_drive, destino_colab)\n",
        "\n",
        "# Archivo Entrevistado\n",
        "archivo_drive = '/content/drive/MyDrive/Intro/Proyecto/Archivo_Entrevistado'\n",
        "destino_colab = '/content/Archivo_Entrevistado'\n",
        "shutil.copyfile(archivo_drive, destino_colab)"
      ],
      "metadata": {
        "colab": {
          "base_uri": "https://localhost:8080/",
          "height": 35
        },
        "id": "YI8kSWs4cf23",
        "outputId": "0beb48eb-f3df-4722-d2d3-1b305463807a"
      },
      "execution_count": null,
      "outputs": [
        {
          "output_type": "execute_result",
          "data": {
            "text/plain": [
              "'/content/Archivo_Entrevistado'"
            ],
            "application/vnd.google.colaboratory.intrinsic+json": {
              "type": "string"
            }
          },
          "metadata": {},
          "execution_count": 10
        }
      ]
    },
    {
      "cell_type": "markdown",
      "source": [
        "##Clase principal"
      ],
      "metadata": {
        "id": "-6Q_qomXco5f"
      }
    },
    {
      "cell_type": "code",
      "source": [
        "class Personas():\n",
        "    def __init__(self, name, ide, date_of_birth, nationality, phone_numbers, emails, direction):\n",
        "        self.name = name\n",
        "        self.ide = ide\n",
        "        self.date_of_birth = date_of_birth\n",
        "        self.nationality = nationality\n",
        "        self.phone_numbers = phone_numbers\n",
        "        self.emails = emails\n",
        "        self.direction = direction"
      ],
      "metadata": {
        "id": "TFlCe1qPcqt5"
      },
      "execution_count": null,
      "outputs": []
    },
    {
      "cell_type": "markdown",
      "source": [
        "## Recolectar información del entrevistador\n"
      ],
      "metadata": {
        "id": "n0nNNRj1Fyjc"
      }
    },
    {
      "cell_type": "markdown",
      "source": [
        "El entrevistador es la persona encargada de realizar las entrevistas. \n",
        "\n",
        "Información requerida del entrevistador (Toda la información requerida debe ser almacenada en la clase Entrevistador. Cada vez que se registra un entrevistador se debe crear una instancia de la clase Entrevistador para guardar toda la información del entrevistador). \n",
        "*   Identificación  \n",
        "*   Nombre \n",
        "*   Fecha de nacimiento\n",
        "*   Nacionalidad\n",
        "*   Números de teléfono y celular (un diccionario)\n",
        "*   Emails (una lista con uno o varios emails)\n",
        "*   Dirección\n",
        "\n",
        "Usted debe incluir al menos tres propiedades únicas al entrevistador.\n",
        "Cada vez que se crea una instancia de Entrevistador, la instancia debe ser almacenada en un archivo binario llamado Archivo_Entrevistador."
      ],
      "metadata": {
        "id": "UA-ZIcQfHSsh"
      }
    },
    {
      "cell_type": "code",
      "source": [
        "class Entrevistador(Personas):\n",
        "    def __init__(self, name, ide, date_of_birth, nationality, phone_numbers, emails, direction, carne, carrera, sede):\n",
        "        Personas.__init__(self, name, ide, date_of_birth, nationality, phone_numbers, emails, direction)\n",
        "        self.carne = carne\n",
        "        self.carrera = carrera\n",
        "        self.sede = sede\n",
        "\n",
        "    def __str__(self):\n",
        "        return f\"Nombre: {self.name}, Identificacion: {self.ide}, Fecha de nacimiento: {self.date_of_birth}, Nacionalidad: {self.nationality}, Numero de telefono: {self.phone_numbers}, Correo: {self.correo}, Lugar de Residencia: {self.direction}, Número de Carnet: {self.carne}, Carrera: {self.carrera}, Sede: {self.sede}\""
      ],
      "metadata": {
        "id": "ZuGSAJGXKk42"
      },
      "execution_count": null,
      "outputs": []
    },
    {
      "cell_type": "markdown",
      "source": [
        "##Borrar Datos"
      ],
      "metadata": {
        "id": "0VpJWIfMc6VG"
      }
    },
    {
      "cell_type": "code",
      "source": [
        "#Crear archivo vacio\n",
        "borrar = input(\"¿Desea borrar todos los datos de los Entrevistadores? \\nATENCION!! NO HAY VUELTA ATRAS, ¿Deseas eliminarlos? (y, n) \")\n",
        "if borrar == \"y\":\n",
        "  with open(\"Archivo_Entrevistador\", \"wb\") as f:\n",
        "    pass\n",
        "  archivo_vacio = True\n",
        "  \n",
        "  print(\"¡Archivo borrado completamente!\")"
      ],
      "metadata": {
        "id": "MXT5rgXLc8mn"
      },
      "execution_count": null,
      "outputs": []
    },
    {
      "cell_type": "markdown",
      "source": [
        "## Entrevista"
      ],
      "metadata": {
        "id": "gpEVKI3Ca-6q"
      }
    },
    {
      "cell_type": "code",
      "source": [
        "def entrevistador():\n",
        "  entrevistadores = []\n",
        "\n",
        "  if os.path.getsize(\"Archivo_Entrevistador\") > 0:\n",
        "    with open(\"Archivo_Entrevistador\", \"rb\") as archivo:\n",
        "      entrevistadores = pickle.load(archivo)\n",
        "\n",
        "\n",
        "    \n",
        "\n",
        "\n",
        "  name = input(\"Nombre: \")\n",
        "  ide = int(input(\"Identificación: \"))\n",
        "  date_of_birth = input(\"Fecha de Nacimiento: \")\n",
        "  nationality = input(\"Ingrese el país de nacimiento: \")\n",
        "  cantidad_numeros = int(input(\"Ingrese la cantidad de número de telefono que desea registrar: \"))\n",
        "  phone_numbers = {}\n",
        "  for i in range(cantidad_numeros):\n",
        "      numero = int(input(\"Número de telefono: \"))\n",
        "      phone_numbers.update({f\"numero{i+1}\": numero})\n",
        "  cantidad_correos = int(input(\"Ingrese la cantidad de correos que desea registrar: \"))\n",
        "  emails = {}\n",
        "  for i in range(cantidad_correos):\n",
        "      correo = input(\"Dirección de Correo: \")\n",
        "      emails.update({f\"correo{i+1}\": correo})\n",
        "  direction = input(\"Dirección de Residencia: \")\n",
        "  carne = input(\"Número de Carne: \")\n",
        "  carrera = input(\"Carrera Universitaria: \")\n",
        "  sede = input(\"Sede Universitaria: \")\n",
        "  entrevistador = Entrevistador(name, ide, date_of_birth, nationality, phone_numbers, emails, direction, carne, carrera, sede)\n",
        "  entrevistadores.append(entrevistador)\n",
        "      #Guardar la informacion en el archivo\n",
        "\n",
        "\n",
        "  with open(\"Archivo_Entrevistador\", \"wb\") as f:\n",
        "      pickle.dump(entrevistadores, f)\n",
        "  archivo_vacio = False\n",
        "  print(\"Se ha guardado la información correctamente\")\n",
        "      \n",
        "\n",
        "entrevistador()"
      ],
      "metadata": {
        "id": "orB3sPjUbB0D"
      },
      "execution_count": null,
      "outputs": []
    },
    {
      "cell_type": "markdown",
      "source": [
        "## Ver Información"
      ],
      "metadata": {
        "id": "BMh5ZxdNRYfK"
      }
    },
    {
      "cell_type": "code",
      "source": [
        "with open(\"Archivo_Entrevistador\", \"rb\") as f:\n",
        "  entrevistadores = pickle.load(f)\n",
        "  for entrevistador in entrevistadores:\n",
        "    print(f\"\\nNombre: {entrevistador.name}\")\n",
        "    print(f\"Identificacion: {entrevistador.ide}\")\n",
        "    print(f\"Fecha de Nacimiento: {entrevistador.date_of_birth}\")\n",
        "    print(f\"Lugar de Nacimiento: {entrevistador.nationality}\")\n",
        "    print(f\"Numeros de Telefono: {entrevistador.phone_numbers}\")\n",
        "    print(f\"Correos electronicos: {entrevistador.emails}\")\n",
        "    print(f\"Direccion: {entrevistador.direction}\")\n",
        "    print(f\"Carne: {entrevistador.carne}\")\n",
        "    print(f\"Carrera: {entrevistador.carrera}\")\n",
        "    print(f\"Sede: {entrevistador.sede}\")\n",
        "    "
      ],
      "metadata": {
        "id": "9EZM5i_AdJkJ"
      },
      "execution_count": null,
      "outputs": []
    },
    {
      "cell_type": "markdown",
      "source": [
        "## Recolectar información del evaluador"
      ],
      "metadata": {
        "id": "tbooeQ3HJIOr"
      }
    },
    {
      "cell_type": "markdown",
      "source": [
        "El evaluador en la persona encargada de revisar la información obtenida de cada entrevista. \n",
        "\n",
        "Información requerida del evaluador (Toda la información requerida debe ser almacenada en la clase Evaluador. Cada vez que se registra un evaluador se debe crear una instancia de la clase Evaluador para guardar toda la información del evaluador). \n",
        "*   Identificación  \n",
        "*   Nombre \n",
        "*   Fecha de nacimiento\n",
        "*   Nacionalidad\n",
        "*   Números de teléfono y celular (un diccionario)\n",
        "*   Emails (una lista con uno o varios emails)\n",
        "*   Dirección\n",
        "\n",
        "Usted debe incluir al menos tres propiedades únicas al evaluador.\n",
        "Cada vez que se crea una instancia de Evaluador, la instancia debe ser almacenada en un archivo binario llamado Archivo_Evaluador."
      ],
      "metadata": {
        "id": "hXoSiCtjJJUK"
      }
    },
    {
      "cell_type": "code",
      "source": [
        "class Evaluador(Personas):\n",
        "    def __init__(self, ide, name, date_of_birth, nationality, phone_numbers, emails, direction, oficina, experiencia, id_evaluador):\n",
        "        Personas.__init__(self, ide, name, date_of_birth, nationality, phone_numbers, emails, direction)        \n",
        "        self.oficina = oficina\n",
        "        self.experiencia = experiencia\n",
        "        self.id_evaluador = id_evaluador"
      ],
      "metadata": {
        "id": "0C1n4p6hPX4w"
      },
      "execution_count": null,
      "outputs": []
    },
    {
      "cell_type": "markdown",
      "source": [
        "# Borrar archivo"
      ],
      "metadata": {
        "id": "bLGb-rRuPBm9"
      }
    },
    {
      "cell_type": "code",
      "source": [
        "#Crear archivo vacio\n",
        "borrar = input(\"¿Desea borrar todos los datos de los Entrevistadores? \\nATENCION!! NO HAY VUELTA ATRAS, ¿Deseas eliminarlos? (y, n) \")\n",
        "if borrar == \"y\":\n",
        "  with open(\"Archivo_Evaluador\", \"wb\") as f:\n",
        "    pass\n",
        "  archivo_vacio = True\n",
        "  \n",
        "  print(\"¡Archivo borrado completamente!\")"
      ],
      "metadata": {
        "id": "Hke-zmscPDcO",
        "colab": {
          "base_uri": "https://localhost:8080/"
        },
        "outputId": "abe1837e-9ed4-47f9-8490-27dad4d1fae6"
      },
      "execution_count": null,
      "outputs": [
        {
          "output_type": "stream",
          "name": "stdout",
          "text": [
            "¿Desea borrar todos los datos de los Entrevistadores? \n",
            "ATENCION!! NO HAY VUELTA ATRAS, ¿Deseas eliminarlos? (y, n) y\n",
            "¡Archivo borrado completamente!\n"
          ]
        }
      ]
    },
    {
      "cell_type": "code",
      "source": [
        "def evaluador():\n",
        "  evaluadores = []\n",
        "\n",
        "  if os.path.getsize(\"Archivo_Evaluador\") > 0:\n",
        "    with open(\"Archivo_Evaluador\", \"rb\") as archivo:\n",
        "      evaluadores = pickle.load(archivo)\n",
        "\n",
        "\n",
        "\n",
        "    \n",
        "\n",
        "\n",
        "  name = input(\"Nombre: \")\n",
        "  ide = int(input(\"Identificación: \"))\n",
        "  date_of_birth = input(\"Fecha de Nacimiento: \")\n",
        "  nationality = input(\"Ingrese el país de nacimiento: \")\n",
        "  cantidad_numeros = int(input(\"Ingrese la cantidad de número de telefono que desea registrar: \"))\n",
        "  phone_numbers = {}\n",
        "  for i in range(cantidad_numeros):\n",
        "      numero = int(input(\"Número de telefono: \"))\n",
        "      phone_numbers.update({f\"numero{i+1}\": numero})\n",
        "  cantidad_correos = int(input(\"Ingrese la cantidad de correos que desea registrar: \"))\n",
        "  emails = {}\n",
        "  for i in range(cantidad_correos):\n",
        "      correo = input(\"Dirección de Correo: \")\n",
        "      emails.update({f\"correo{i+1}\": correo})\n",
        "  direction = input(\"Dirección de Residencia: \")\n",
        "  oficina = input(\"Ingrese la oficina: \")\n",
        "  experiencia = input(\"Nivel de Experiencia: \")\n",
        "  id_evaluador = input(\"ID de evaluador: \")\n",
        "  evaluador = Evaluador(name, ide, date_of_birth, nationality, phone_numbers, emails, direction, oficina, experiencia, id_evaluador)\n",
        "  evaluadores.append(evaluador)\n",
        "\n",
        "      #Guardar la informacion en el archivo\n",
        "\n",
        "\n",
        "  with open(\"Archivo_Evaluador\", \"wb\") as f:\n",
        "      pickle.dump(evaluadores, f)\n",
        "  archivo_vacio = False\n",
        "  print(\"Se ha guardado la información correctamente\")\n",
        "      \n",
        "\n",
        "evaluador()"
      ],
      "metadata": {
        "colab": {
          "base_uri": "https://localhost:8080/"
        },
        "outputId": "1b880b75-90c6-4ce2-f2ea-f21c35230fd4",
        "id": "TGd5wMmRdOUg"
      },
      "execution_count": null,
      "outputs": [
        {
          "output_type": "stream",
          "name": "stdout",
          "text": [
            "Nombre: Abel Mendez\n",
            "Identificación: 209030933\n",
            "Fecha de Nacimiento: 09090999\n",
            "Ingrese el país de nacimiento: Costa Rica\n",
            "Ingrese la cantidad de número de telefono que desea registrar: 0\n",
            "Ingrese la cantidad de correos que desea registrar: 0\n",
            "Dirección de Residencia: 0\n",
            "Ingrese la oficina: 0\n",
            "Nivel de Experiencia: 0\n",
            "ID de evaluador: 0\n",
            "Se ha guardado la información correctamente\n"
          ]
        }
      ]
    },
    {
      "cell_type": "code",
      "source": [
        "with open(\"Archivo_Evaluador\", \"rb\") as f:\n",
        "  evaluadores = pickle.load(f)\n",
        "  for evaluador in evaluadores:\n",
        "    print(f\"\\nNombre: {evaluador.name}\")\n",
        "    print(f\"Identificacion: {evaluador.ide}\")\n",
        "    print(f\"Fecha de Nacimiento: {evaluador.date_of_birth}\")\n",
        "    print(f\"Lugar de Nacimiento: {evaluador.nationality}\")\n",
        "    print(f\"Numeros de Telefono: {evaluador.phone_numbers}\")\n",
        "    print(f\"Correos electronicos: {evaluador.emails}\")\n",
        "    print(f\"Direccion: {evaluador.direction}\")\n",
        "    print(f\"Oficina: {evaluador.oficina}\")\n",
        "    print(f\"Experiencia: {evaluador.experiencia}\")\n",
        "    print(f\"ID de Evaluador: {evaluador.id_evaluador}\")"
      ],
      "metadata": {
        "id": "J2vuKMkWQwO7"
      },
      "execution_count": null,
      "outputs": []
    },
    {
      "cell_type": "markdown",
      "source": [
        "## Recolectar información del entrevistado"
      ],
      "metadata": {
        "id": "HMLUntgiGJsf"
      }
    },
    {
      "cell_type": "markdown",
      "source": [
        "El entrevistado es la persona que está interesada en el puesto de trabajo.\n",
        "\n",
        "Información requerida al entrevistar una persona (Toda la información requerida debe ser almacenada en la clase Entrevistado. Cada vez que se registra un entrevistado se debe crear una instancia de la clase Entrevistado para guardar toda la información del entrevistado).\n",
        "*   Identificación  \n",
        "*   Nombre \n",
        "*   Fecha de nacimiento\n",
        "*   Nacionalidad\n",
        "*   Números de teléfono y celular (un diccionario)\n",
        "*   Emails (una lista con uno o varios emails)\n",
        "*   Dirección\n",
        "*   Estado civil\n",
        "*   Cantidad de hijos indicando el género, la fecha de nacimiento(un diccionario) \n",
        "*   Entrevistas (cada persona puede ser entrevistada cero o más veces). Las entrevistas se realizan en tiempo real utilizando una camára integrada a la computadora o externa (el profesor facilita el código para activar la camára, capturar el video y capturar los frames cada cierto tiempo). Se debe crear una lista con sublistas donde cada sublista tiene las imagenes capturas y las emociones reportadas durante la entrevista. Además, debe guardar coordenadas donde se encuentra el rostro en la imagen. Para cada entrevista, el entrevistado debe contar historias cortas sobre los siguientes 4 tópicos:\n",
        "\n",
        "\n",
        "  >*   Una experiencia de sorpresa o asombro que ha tenido que vivir.\n",
        "  >*   Una experiencia de tristeza que ha tenido que vivir.\n",
        "  >*   Una experiencia de enojo o frustración que ha tenido que vivir.\n",
        "  >*   Una experiencia de felicidad que ha tenido que vivir.\n",
        "\n",
        "Un aspecto importante es que cada vez que se va a realizar una entrevista se debe indicar quién es el entrevistador.\n",
        "\n",
        "Usted debe incluir al menos tres propiedades únicas al perfil de entrevistado. Cada vez que se crea una instancia de Entrevistado, la instancia debe ser almacenada en un archivo binario llamado Archivo_Entrevistado."
      ],
      "metadata": {
        "id": "fUUU_SL55RSa"
      }
    },
    {
      "cell_type": "code",
      "source": [
        "class Entrevistado(Personas):\n",
        "    def __init__(self, ide, name, date_of_birth, age, nationality, phone_numbers, emails, direction, gender, civil_state, children, cont_child, entrevistador, image, estado):\n",
        "        Personas.__init__(self, ide, name, date_of_birth, nationality, phone_numbers, emails, direction)\n",
        "        self.gender = gender\n",
        "        self.civil_state = civil_state\n",
        "        self.children = children\n",
        "        self.cont_child = cont_child\n",
        "        self.entrevistador = entrevistador\n",
        "        self.age = age\n",
        "        self.image = image\n",
        "        self.estado = estado"
      ],
      "metadata": {
        "id": "GdZ69SVCTusl"
      },
      "execution_count": null,
      "outputs": []
    },
    {
      "cell_type": "markdown",
      "source": [
        "## Borrar Archivo\n"
      ],
      "metadata": {
        "id": "TVxk97PcS0W8"
      }
    },
    {
      "cell_type": "code",
      "source": [
        "##Crear archivo vacio\n",
        "borrar = input(\"¿Desea borrar todos los datos de los Entrevistadores? \\nATENCION!! NO HAY VUELTA ATRAS, ¿Deseas eliminarlos? (y, n) \")\n",
        "if borrar == \"y\":\n",
        "  with open(\"Archivo_Entrevistado\", \"wb\") as f:\n",
        "    pass\n",
        "  archivo_vacio = True\n",
        "  \n",
        "  print(\"¡Archivo borrado completamente!\")"
      ],
      "metadata": {
        "id": "4jGXypC0dW7a"
      },
      "execution_count": null,
      "outputs": []
    },
    {
      "cell_type": "code",
      "source": [
        "def persona_entrevistadora():\n",
        "  persona_entrevistadora = []\n",
        "  with open(\"Archivo_Entrevistador\", \"rb\") as f:\n",
        "    persona = pickle.load(f)\n",
        "    for x in persona:\n",
        "      nombre = x.name\n",
        "      persona_entrevistadora.append(nombre)\n",
        "  return persona_entrevistadora\n",
        "\n",
        "\n",
        "def entrevistado():\n",
        "  entrevistados = []\n",
        "\n",
        "  if os.path.getsize(\"Archivo_Entrevistado\") > 0:\n",
        "    with open(\"Archivo_Entrevistado\", \"rb\") as archivo:\n",
        "      entrevistados = pickle.load(archivo)\n",
        "\n",
        "  \n",
        "  while True:\n",
        "    stop = False \n",
        "    persona = persona_entrevistadora()\n",
        "    print(persona)\n",
        "    entrevistador = str(input(\"\\nIngresa la persona entrevistadora: \"))\n",
        "    if entrevistador in persona:\n",
        "        break\n",
        "    else:\n",
        "      print()\n",
        "      print(\"El entrevistador no está en nuestra lista \\nVerifica que esté en la lista o registra un entrevistador nuevo\")\n",
        "\n",
        "\n",
        "  name = input(\"Nombre: \")\n",
        "  ide = int(input(\"Identificación: \"))\n",
        "  date_of_birth = input(\"Fecha de Nacimiento: \")\n",
        "  age = input(\"Ingrese su cantidad de años: \")\n",
        "  nationality = input(\"Ingrese el país de nacimiento: \")\n",
        "  cantidad_numeros = int(input(\"Ingrese la cantidad de número de telefono que desea registrar: \"))\n",
        "  phone_numbers = {}\n",
        "  for i in range(cantidad_numeros):\n",
        "      numero = int(input(\"Número de telefono: \"))\n",
        "      phone_numbers.update({f\"numero{i+1}\": numero})\n",
        "  cantidad_correos = int(input(\"Ingrese la cantidad de correos que desea registrar: \"))\n",
        "  emails = {}\n",
        "  for i in range(cantidad_correos):\n",
        "      correo = input(\"Dirección de Correo: \")\n",
        "      emails.update({f\"correo{i+1}\": correo})\n",
        "  direction = input(\"Dirección de Residencia: \")\n",
        "  gender = input(\"Ingrese su genero: \")\n",
        "  civil_state = input(\"Ingrese su estado civil: \")\n",
        "  cont_child = int(input(\"Ingrese la cantidad de hijos: \"))\n",
        "  children = {}\n",
        "  image = {\"Image_info\": \"\"}\n",
        "  master_child = []\n",
        "  for i in range(cont_child):\n",
        "    child = {}\n",
        "    genero = input(\"Ingrese el genero de su hijo: \")\n",
        "    fecha_nacimiento = input(\"Ingrese la fecha de nacimiento de su hijo: \")\n",
        "    child.update({\"genero\": genero})\n",
        "    child.update({\"nacimiento\": fecha_nacimiento})\n",
        "    master_child.append(child)\n",
        "    children.update({f\"hijo\": master_child})\n",
        "  \n",
        "  entrevistado = Entrevistado(name, ide, date_of_birth, age, nationality, phone_numbers, emails, direction, civil_state, children, cont_child, entrevistador, image)\n",
        "  entrevistados.append(entrevistado)\n",
        "\n",
        "      #Guardar la informacion en el archivo\n",
        "\n",
        "\n",
        "  with open(\"Archivo_Entrevistado\", \"wb\") as f:\n",
        "      pickle.dump(entrevistados, f)\n",
        "  archivo_vacio = False\n",
        "  print(\"\\nSe ha guardado la información correctamente\")\n",
        "      \n",
        "\n",
        "entrevistado()"
      ],
      "metadata": {
        "id": "TMxuEn6kTRAN"
      },
      "execution_count": null,
      "outputs": []
    },
    {
      "cell_type": "code",
      "source": [
        "with open(\"Archivo_Entrevistado\", \"rb\") as f:\n",
        "  entrevistados = pickle.load(f)\n",
        "  for entrevistado in entrevistados:\n",
        "    print(f\"Entrevistador: {entrevistado.entrevistador}\")\n",
        "    print(f\"\\nNombre: {entrevistado.name}\")\n",
        "    print(f\"Identificacion: {entrevistado.ide}\")\n",
        "    print(f\"Fecha de Nacimiento: {entrevistado.date_of_birth}\")\n",
        "    print(f\"Años de edad: {entrevistado.age}\")\n",
        "    print(f\"Lugar de Nacimiento: {entrevistado.nationality}\")\n",
        "    print(f\"Numeros de Telefono: {entrevistado.phone_numbers}\")\n",
        "    print(f\"Correos electronicos: {entrevistado.emails}\")\n",
        "    print(f\"Direccion: {entrevistado.direction}\")\n",
        "    print(f\"Estado civil: {entrevistado.civil_state}\")\n",
        "    print(f\"Cantidad de hijos: {entrevistado.cont_child}\")\n",
        "    print(f\"Hijos: {entrevistado.children}\")\n",
        "    print(f\"Informacion de las imagenes: {entrevistado.image}\")\n"
      ],
      "metadata": {
        "id": "YY5Fs3REW3JN"
      },
      "execution_count": null,
      "outputs": []
    },
    {
      "cell_type": "markdown",
      "source": [
        "### Recolectar información emociones\n",
        "Este código se encarga de ejecutar la captura de video de la cámara, detectar los rostros en las imágenes y reconocer las emociones presentes en los rostros. Cuando se hace la entrevista es en este código donde usted de obtener la información para crear las listas con la información solicitada."
      ],
      "metadata": {
        "id": "7mXDD7r7GSec"
      }
    },
    {
      "cell_type": "code",
      "source": [
        "def entrevista():\n",
        "  \"\"\" \n",
        "  This function will add photo information, emotion, and coordinate to a list \n",
        "  \"\"\"\n",
        "  list_temp = []\n",
        "  # Add information of photos and emotion to a \"list_temp\":\n",
        "  list_temp.append(image_path)\n",
        "  list_temp.append(emotion_prediction)\n",
        "  # Create a list of the coordinates of the image:\n",
        "  face = []\n",
        "  face2 = faces_detected[0]\n",
        "  c = 0\n",
        "  while c <= 3:\n",
        "    face3 = face2[c]\n",
        "    face.append(face3)\n",
        "    c += 1\n",
        "  list_temp.append(face)\n",
        "  # Send the every information of interview to a list \"result\":\n",
        "  result.append(list_temp)"
      ],
      "metadata": {
        "id": "-Mo01o9tdnKx"
      },
      "execution_count": null,
      "outputs": []
    },
    {
      "cell_type": "code",
      "source": [
        "from tensorflow.python.ops.math_ops import sign\n",
        "lista_personas = []\n",
        "result = []\n",
        "with open(\"Archivo_Entrevistado\", \"rb\") as f:\n",
        "    persona = pickle.load(f)\n",
        "    for person in persona:\n",
        "      nombre = person.name\n",
        "      lista_personas.append(nombre)\n",
        "\n",
        "\n",
        "print(\"¿De quien es la entrevista?\", lista_personas )\n",
        "nombre = str(input(\"Escribe a continuación tu nombre: \"))\n",
        "while nombre not in lista_personas:\n",
        "  print(\"Error,\", nombre, \"no está en la lista\")\n",
        "  print(\"¿De quien es la entrevista?\", lista_personas )\n",
        "  nombre = str(input(\"Escribe a continuación tu nombre: \"))\n",
        "\n",
        "\n",
        "for x in persona:\n",
        "  entrevistado = x.name\n",
        "  if entrevistado == nombre:\n",
        "    image = x.image\n",
        "\n",
        "\n",
        "\n",
        "      \n",
        "\n",
        "# start streaming video from webcam\n",
        "video_stream()\n",
        "# label for video\n",
        "label_html = 'Capturing...'\n",
        "# initialze bounding box to empty\n",
        "bbox = ''\n",
        "count = 0 \n",
        "j = 5\n",
        "while True:\n",
        "  js_reply = video_frame(label_html, bbox)\n",
        "  if not js_reply:\n",
        "    break\n",
        "\n",
        "  # convert JS response to OpenCV Image\n",
        "  img = js_to_image(js_reply[\"img\"])\n",
        "  img_copy = img\n",
        "\n",
        "  # create transparent overlay for bounding box\n",
        "  bbox_array = np.zeros([480,640,4], dtype=np.uint8)\n",
        "\n",
        "\n",
        "  if count == j: #El tiempo para capturar el frame y procesarlo\n",
        "    #Este sería el path de la imagen guardada\n",
        "    image_path ='/content/drive/MyDrive/Intro/Proyecto/Imagenes II/' + nombre + str(j) +  '.jpg'\n",
        "    #se guarda el fotograma con el \"nombre\" más el número del contador i\n",
        "    cv2.imwrite(image_path , img)\n",
        "    #Imprime el nombre del usuario\n",
        "    print(\"Rostro de\", nombre) \n",
        "    #Detectar los rostros usando Face Haar Cascade\n",
        "    gray_image = cv2.cvtColor(img, cv2.COLOR_RGB2GRAY)\n",
        "    #En faces_deteted se encuentran los rotros detectados\n",
        "    faces_detected = face_haar_cascade.detectMultiScale(gray_image,1.32,5)\n",
        "    #Imprimir ubicación de los rostros en la imagen\n",
        "    print(\"Ubicación del rostro:\", faces_detected)\n",
        "    im2Display = cv2.cvtColor(img, cv2.COLOR_BGR2RGB)\n",
        "    imTemp = im2Display.copy()\n",
        "\n",
        "    #Hacer un rectángulo en cada rostro detectado en la imagen\n",
        "    for (x,y,w,h) in faces_detected:\n",
        "        cv2.rectangle(img,(x,y), (x+w,y+h), (255,0,0), thickness=7)\n",
        "\n",
        "        roi_gray=gray_image[y:y+w,x:x+h]\n",
        "        roi_gray=cv2.resize(roi_gray,(48,48))\n",
        "\n",
        "        #Processes the image and adjust it to pass it to the model\n",
        "        image_pixels = tf.keras.preprocessing.image.img_to_array(roi_gray)\n",
        "       \n",
        "        image_pixels = np.expand_dims(image_pixels, axis = 0)\n",
        "        image_pixels /= 255\n",
        "\n",
        "        #Obtener las emociones para cada rostro detectado en la imagen\n",
        "        #Get the prediction of the model\n",
        "        predictions = model.predict(image_pixels)\n",
        "        #Mostrar todas las emociones detectadas\n",
        "        print(\"Predicciones: \", predictions)\n",
        "        #Mostrar la emoción más significativa (con el valor más alto)\n",
        "        max_index = np.argmax(predictions[0])\n",
        "        print(max_index, predictions[0])\n",
        "        #El orden en que vienen las emociones\n",
        "        emotion_detection = ('angry', 'disgust', 'fear', 'happyness', 'sadness', 'surprise', 'neutral')\n",
        "\n",
        "        emotion_prediction = emotion_detection[max_index]\n",
        "        #Crear un diccionario para almacenar la emoción y el valor para la emoción\n",
        "        frame_dic = dict(\n",
        "            angry = predictions[0][0],\n",
        "            disgust = predictions[0][1],\n",
        "            fear = predictions[0][2],            \n",
        "            happiness = predictions[0][3],\n",
        "            sadness = predictions[0][4],\n",
        "            surprise = predictions[0][5],\n",
        "            neutral = predictions[0][6]) \n",
        "        print(\"Predicciones: \", frame_dic)\n",
        "        print( emotion_prediction )\n",
        "        entrevista()\n",
        "        \n",
        "        #Mostrar en la imagen un texto de la emoción más significativa\n",
        "        ubicacion = (x,y)\n",
        "        font = cv2.FONT_HERSHEY_TRIPLEX\n",
        "        tamañoLetra = 2\n",
        "        colorLetra = (221,82,196)\n",
        "        grosorLetra = 7\n",
        "        #Escribir texto con la emoción más significativa\n",
        "        cv2.putText(imTemp, emotion_prediction, ubicacion, font, tamañoLetra, colorLetra, grosorLetra)\n",
        "        pt1 = (x, y)\n",
        "        pt2 = (x+w, y+h)\n",
        "        color = (23,200,54)\n",
        "        thickness = 10\n",
        "        cv2.rectangle(imTemp, pt1, pt2, color, thickness)\n",
        "\n",
        "    #Mostrar la imagen con los cuadros en los rostros y el texto de la emoción más significativa\n",
        "    plt.imshow(imTemp)\n",
        "    plt.show()\n",
        "\n",
        "    j +=5\n",
        "  count +=1\n",
        "\n",
        "\n",
        "image.update({\"Image_info\" : result})\n",
        "print(image)\n",
        "\n",
        "with open(\"Archivo_Entrevistado\", \"wb\") as f:\n",
        "    pickle.dump(persona, f)\n",
        "archivo_vacio = False\n",
        "print(\"\\nSe ha guardado la información correctamente\")"
      ],
      "metadata": {
        "id": "KOwjK9cMGRzv"
      },
      "execution_count": null,
      "outputs": []
    },
    {
      "cell_type": "markdown",
      "source": [
        "# Objetos Gráficos\n",
        "\n",
        "\n",
        "\n",
        "1.   Debe implementar Widgets para la información a recolectar y mostrar para cada uno de los requerimientos del proyecto. A continuación, se listan los principales tipos de widgets que debe utilizar en el proyecto.\n",
        "  \n",
        "\n",
        "    *   Numeric widgets\n",
        "    *   Boolean widgets\n",
        "    *   Selection widgets\n",
        "    *   String widgets\n",
        "    *   Image\n",
        "    *   Tag widgets\n",
        "    *   Date picker\n",
        "    *   Time picker\n",
        "    *   Color picker\n",
        "    *   File Upload\n",
        "    *   Container/Layout widgets\n",
        "\n"
      ],
      "metadata": {
        "id": "F5ssJocNMJls"
      }
    },
    {
      "cell_type": "markdown",
      "source": [
        "# Árboles binarios\n",
        "\n",
        "\n",
        "1.   Implementar un árbol binario para almacenar de forma ordenada las personas por edad (Cada nodo del árbol debe contener una instancia de la clase Entrevistado).\n",
        "2.   Implementar un árbol binario para almacenar de forma ordenada las personas por por la emoción de felicidad (Cada nodo del árbol debe contener una instancia de la clase Entrevistado).\n",
        "\n",
        "3. Implementar una función que muestre la información del árbol implementado en el punto 1 en orden (Debe mostrar la información usando widgets).\n",
        "\n",
        "\n",
        "4. Implementar una función que muestre la información del árbol implementado en el punto 2 en preorden (Debe mostrar la información usando widgets).\n",
        "\n",
        "\n",
        "5. Implementar una función que buscar una persona por la identificación en el árbol implementado en el punto 1. \n",
        "\n",
        "6. Implementar una función que buscar una persona por el nombre en el árbol implementado en el punto 2.\n",
        "\n",
        "7. Implementar una función que buscar muestre todas las personas que tienen el grado de felicidad más alto en el árbol implementado en el punto 1. "
      ],
      "metadata": {
        "id": "qBWLqTE0R9-k"
      }
    },
    {
      "cell_type": "code",
      "source": [
        "class Entrevistado:\n",
        "    def __init__(self, identificacion, nombre, edad, felicidad):\n",
        "        self.identificacion = identificacion\n",
        "        self.nombre = nombre\n",
        "        self.edad = edad\n",
        "        self.felicidad = felicidad\n",
        "\n",
        "class Nodo:\n",
        "    def __init__(self, entrevistado):\n",
        "        self.entrevistado = entrevistado\n",
        "        self.izquierda = None\n",
        "        self.derecha = None\n",
        "\n",
        "def insertar_por_edad(nodo, entrevistado):\n",
        "    if nodo is None:\n",
        "        return Nodo(entrevistado)\n",
        "    elif entrevistado.edad < nodo.entrevistado.edad:\n",
        "        nodo.izquierda = insertar_por_edad(nodo.izquierda, entrevistado)\n",
        "    else:\n",
        "        nodo.derecha = insertar_por_edad(nodo.derecha, entrevistado)\n",
        "    return nodo\n",
        "\n",
        "def insertar_por_felicidad(nodo, entrevistado):\n",
        "    if nodo is None:\n",
        "        return Nodo(entrevistado)\n",
        "    elif entrevistado.felicidad < nodo.entrevistado.felicidad:\n",
        "        nodo.izquierda = insertar_por_felicidad(nodo.izquierda, entrevistado)\n",
        "    else:\n",
        "        nodo.derecha = insertar_por_felicidad(nodo.derecha, entrevistado)\n",
        "    return nodo\n",
        "\n",
        "def mostrar_en_orden(nodo):\n",
        "    if nodo is not None:\n",
        "        mostrar_en_orden(nodo.izquierda)\n",
        "        print(f\"Identificación: {nodo.entrevistado.identificacion}, Nombre: {nodo.entrevistado.nombre}, Edad: {nodo.entrevistado.edad}\")\n",
        "        mostrar_en_orden(nodo.derecha)\n",
        "\n",
        "def mostrar_en_preorden(nodo):\n",
        "    if nodo is not None:\n",
        "        print(f\"Identificación: {nodo.entrevistado.identificacion}, Nombre: {nodo.entrevistado.nombre}, Felicidad: {nodo.entrevistado.felicidad}\")\n",
        "        mostrar_en_preorden(nodo.izquierda)\n",
        "        mostrar_en_preorden(nodo.derecha)\n",
        "\n",
        "def buscar_por_identificacion(nodo, identificacion):\n",
        "    if nodo is None or nodo.entrevistado.identificacion == identificacion:\n",
        "        return nodo\n",
        "    if identificacion < nodo.entrevistado.identificacion:\n",
        "        return buscar_por_identificacion(nodo.izquierda, identificacion)\n",
        "    return buscar_por_identificacion(nodo.derecha, identificacion)\n",
        "\n",
        "def buscar_por_nombre(nodo, nombre):\n",
        "    if nodo is None or nodo.entrevistado.nombre == nombre:\n",
        "        return nodo\n",
        "    if nombre < nodo.entrevistado.nombre:\n",
        "        return buscar_por_nombre(nodo.izquierda, nombre)\n",
        "    return buscar_por_nombre(nodo.derecha, nombre)\n",
        "\n",
        "def buscar_maxima_felicidad(nodo):\n",
        "    if nodo is None:\n",
        "        return []\n",
        "    if nodo.derecha is None:\n",
        "        return [nodo.entrevistado]\n",
        "    return buscar_maxima_felicidad(nodo.derecha)\n",
        "\n",
        "# Ejemplo de uso:\n",
        "raiz_edad = None\n",
        "raiz_felicidad = None\n",
        "\n",
        "# Insertar personas en el árbol por edad\n",
        "raiz_edad = insertar_por_edad(raiz_edad, Entrevistado(1, \"Juan\", 30, 8))\n",
        "raiz_edad = insertar_por_edad(raiz_edad, Entrevistado(2, \"María\", 25, 6))\n",
        "raiz_edad = insertar_por_edad(raiz_edad, Entrevistado(3, \"Pedro\", 35, 9))\n",
        "\n",
        "# Insertar personas en el árbol por felicidad\n",
        "raiz_felicidad = insertar_por_felicidad(raiz_felicidad, Entrevistado(4, \"Ana\", 28, 7))\n",
        "raiz_felicidad = insertar_por_felicidad(raiz_felicidad, Entrevistado(5, \"Luis\", 33, 9))\n",
        "raiz_felicidad = insertar_por_felicidad(raiz_felicidad, Entrevistado(6, \"Marta\", 27, 8))\n",
        "\n",
        "# Mostrar información del árbol por edad en orden\n",
        "print(\"Información del árbol por edad (orden ascendente):\")\n",
        "mostrar_en_orden(raiz_edad)\n",
        "\n",
        "# Mostrar información del árbol por felicidad en preorden\n",
        "print(\"\\nInformación del árbol por felicidad (preorden):\")\n",
        "mostrar_en_preorden(raiz_felicidad)\n",
        "\n",
        "# Buscar una persona por identificación en el árbol por edad\n",
        "identificacion_buscada = 2\n",
        "nodo_encontrado = buscar_por_identificacion(raiz_edad, identificacion_buscada)\n",
        "if nodo_encontrado is not None:\n",
        "    print(f\"\\nPersona encontrada por identificación {identificacion_buscada}:\")\n",
        "    print(f\"Identificación: {nodo_encontrado.entrevistado.identificacion}, Nombre: {nodo_encontrado.entrevistado.nombre}, Edad: {nodo_encontrado.entrevistado.edad}\")\n",
        "else:\n",
        "    print(f\"\\nPersona con identificación {identificacion_buscada} no encontrada.\")\n",
        "\n",
        "# Buscar una persona por nombre en el árbol por felicidad\n",
        "nombre_buscado = \"Luis\"\n",
        "nodo_encontrado = buscar_por_nombre(raiz_felicidad, nombre_buscado)\n",
        "if nodo_encontrado is not None:\n",
        "    print(f\"\\nPersona encontrada por nombre '{nombre_buscado}':\")\n",
        "    print(f\"Identificación: {nodo_encontrado.entrevistado.identificacion}, Nombre: {nodo_encontrado.entrevistado.nombre}, Felicidad: {nodo_encontrado.entrevistado.felicidad}\")\n",
        "else:\n",
        "    print(f\"\\nPersona con nombre '{nombre_buscado}' no encontrada.\")\n",
        "\n",
        "# Buscar personas con el grado de felicidad más alto en el árbol por edad\n",
        "personas_max_felicidad = buscar_maxima_felicidad(raiz_edad)\n",
        "if personas_max_felicidad:\n",
        "    print(\"\\nPersonas con el grado de felicidad más alto (árbol por edad):\")\n",
        "    for persona in personas_max_felicidad:\n",
        "        print(f\"Identificación: {persona.identificacion}, Nombre: {persona.nombre}, Edad: {persona.edad}\")\n",
        "else:\n",
        "    print(\"\\nNo se encontraron personas en el árbol por edad.\")\n"
      ],
      "metadata": {
        "id": "djGBhaVWZj37",
        "colab": {
          "base_uri": "https://localhost:8080/"
        },
        "outputId": "d543948f-6fa1-4594-a57c-a52031cbe57b"
      },
      "execution_count": null,
      "outputs": [
        {
          "output_type": "stream",
          "name": "stdout",
          "text": [
            "Información del árbol por edad (orden ascendente):\n",
            "Identificación: 2, Nombre: María, Edad: 25\n",
            "Identificación: 1, Nombre: Juan, Edad: 30\n",
            "Identificación: 3, Nombre: Pedro, Edad: 35\n",
            "\n",
            "Información del árbol por felicidad (preorden):\n",
            "Identificación: 4, Nombre: Ana, Felicidad: 7\n",
            "Identificación: 5, Nombre: Luis, Felicidad: 9\n",
            "Identificación: 6, Nombre: Marta, Felicidad: 8\n",
            "\n",
            "Persona con identificación 2 no encontrada.\n",
            "\n",
            "Persona encontrada por nombre 'Luis':\n",
            "Identificación: 5, Nombre: Luis, Felicidad: 9\n",
            "\n",
            "Personas con el grado de felicidad más alto (árbol por edad):\n",
            "Identificación: 3, Nombre: Pedro, Edad: 35\n"
          ]
        }
      ]
    },
    {
      "cell_type": "markdown",
      "source": [
        "# Metodos de Ordenamiento\n"
      ],
      "metadata": {
        "id": "KPA5awLD6aKj"
      }
    },
    {
      "cell_type": "code",
      "source": [
        "#@title Inserción\n",
        "def mayor_lista(lista):\n",
        "    if len(lista)==0:\n",
        "        return (None)\n",
        "    else:\n",
        "        mayor=lista[0]\n",
        "        for x in lista[1:]:\n",
        "            if x>mayor:\n",
        "                mayor=x\n",
        "        return(mayor) \n",
        "    print(mayor_lista(lista))\n",
        "\n",
        "\n",
        "def ordenamiento_insercion(lista):\n",
        "  nueva_lista = []\n",
        "  while len(lista)>0:\n",
        "      mayor=mayor_lista(lista)\n",
        "      nueva_lista.insert(0,mayor)\n",
        "      lista.remove(mayor)\n",
        "  return nueva_lista\n",
        "print(mayor_lista([2,4,3,5,6,8,9,2]))"
      ],
      "metadata": {
        "colab": {
          "base_uri": "https://localhost:8080/"
        },
        "id": "j-Vkqmv36mg3",
        "outputId": "33a6c983-9958-4eb8-ad06-19c691afe233"
      },
      "execution_count": null,
      "outputs": [
        {
          "output_type": "stream",
          "name": "stdout",
          "text": [
            "9\n"
          ]
        }
      ]
    },
    {
      "cell_type": "code",
      "source": [
        "#@title Burbuja\n",
        "def ordenamiento_burbuja(lista):\n",
        "    \"\"\"Utiliza el método de burbuja para ordenar una lista (La lista es recibida por referencia)\n",
        "    Argumentos:\n",
        "        lista {list} -- Lista a Ordenar (Por referencia)\n",
        "    Returna:\n",
        "        lista {list} -- Lista Ordenada\n",
        "    \"\"\"\n",
        "    pasadas=len(lista)-1\n",
        "    while pasadas>0:\n",
        "        #print (\"Pasada: \",pasadas)\n",
        "        pos=0\n",
        "        while pos<pasadas:\n",
        "            if lista[pos]>lista[pos+1]:\n",
        "                temp=lista[pos]\n",
        "                lista[pos]=lista[pos+1]\n",
        "                lista[pos+1]=temp\n",
        "            pos=pos+1\n",
        "        pasadas=pasadas-1\n",
        "    return lista\n"
      ],
      "metadata": {
        "id": "XPJvm80t6rco"
      },
      "execution_count": null,
      "outputs": []
    },
    {
      "cell_type": "markdown",
      "source": [
        "### QuickSort"
      ],
      "metadata": {
        "id": "L4X8hahh6wMm"
      }
    },
    {
      "cell_type": "code",
      "source": [
        "def particiona_lista(lista):\n",
        "    \"\"\"Basado en una lista devuelve una sublista con tres elemento, el primero una \n",
        "    sublista con los elementos menores al pivote, segundo el pivote (último elemento de la lista), \n",
        "    tercero una sublista con los elemntos mayores o iguales al pivote. \n",
        "    (Se asume la lista tienen al menos 1 elemento) \n",
        "    Argumentos:\n",
        "        lista {list} -- Lista desordenada\n",
        "    Returns:\n",
        "        [menores,pivote,mayores] {list} -- Lista con sublista de elementos menores, pivote y lista con elementos mayores\n",
        "    \"\"\"\n",
        "    menores=list()\n",
        "    mayores=list()\n",
        "    pivote=lista[-1]\n",
        "    for x in lista[:-1]:\n",
        "        if x<pivote:\n",
        "            menores.append(x)\n",
        "        else:\n",
        "            mayores.append(x) \n",
        "    return([menores,pivote,mayores])"
      ],
      "metadata": {
        "id": "nO0KCQuj6vZJ"
      },
      "execution_count": null,
      "outputs": []
    },
    {
      "cell_type": "code",
      "source": [
        "def ordenamiento_quickSort(lista):\n",
        "    \"\"\"Ordena una lista utilizando el algoritmo quicksort iterativo.\n",
        "    Argumentos:\n",
        "        lista {list} -- Lista desordenada\n",
        "    Returna:\n",
        "        lista {list} -- Lista Ordenada\n",
        "    \"\"\"\n",
        "    if len(lista)<0:\n",
        "        lista=particiona_lista(lista)\n",
        "        cont=0\n",
        "        while cont<len(lista):\n",
        "            e=lista[cont]\n",
        "            if type(e)==list:\n",
        "                if len(e)==0:\n",
        "                    del lista[cont]\n",
        "                elif len(e)==1:\n",
        "                    lista[cont]=e[0]\n",
        "                    cont = cont + 1\n",
        "                else:\n",
        "                    lista=lista[:cont]+particiona_lista(e)+lista[cont+1:]\n",
        "            else:\n",
        "                cont=cont+1\n",
        "            \n",
        "    return lista"
      ],
      "metadata": {
        "id": "rrGAqjlP6zBY"
      },
      "execution_count": null,
      "outputs": []
    },
    {
      "cell_type": "markdown",
      "source": [
        "# Consultas\n",
        "\n",
        "\n",
        "1.   Mostrar la información de todas las personas entrevistas (la información debe ser mostrada siendo saca del archivo correspondiente, debe mostrar la información en formato legible, no en estructuras y objetos). Además, debe mostrar toda la información recolectada de la persona, se debe mostrar todas las imágenes que se recolectaron durante las entrevistas, las emociones reconocidas para cada imagen y las coordenadas donde se encuentra los rostros.\n",
        "\n",
        "2.   Mostrar la información de todas las personas entrevistas ordenada ascendentemente por edad. El método de ordenamiento a utilizar es el método por inserción (la información debe ser mostrada siendo saca de los archivos, no se debe hacer simplemente la impresión en pantalla de la información obtenida de los archivos). Además, de mostrar toda la información recolectada de la persona, se debe mostrar todas las imágenes que se recolectaron durante las entrevistas, las emociones reconocidas para cada imagen y las coordenadas donde se encuentra los rostros.\n",
        "\n",
        "3.   Mostrar la información de todas las personas entrevistas ordenada descendente mente por la cantidad de hijos. El método de ordenamiento a utilizar es el método por de la bubuja (la información debe ser mostrada siendo saca de los archivos, no se debe hacer simplemente la impresión en pantalla de la información obtenida de los archivos). Además, de mostrar toda la información recolectada de la persona, se debe mostrar todas las imágenes que se recolectaron durante las entrevistas, las emociones reconocidas para cada imagen y las coordenadas donde se encuentra los rostros.\n",
        "\n",
        "4. Mostrar la información de todas las personas entrevistas ordenada descendentemente por la cantidad de hijos. El método de ordenamiento a utilizar es el método por de la quicksort (la información debe ser mostrada siendo sacada de los archivos, no se debe hacer simplemente la impresión en pantalla de la información obtenida de los archivos). Además, de mostrar toda la información recolectada de la persona, se debe mostrar todas las imágenes que se recolectaron durante las entrevistas, las emociones reconocidas para cada imagen y las coordenadas donde se encuentra los rostros. También, imprimir una lista con sublistas donde la primera sublista tiene la información de las personas que tienen únicamente hijos de género femenino, la segunda sublista tiene información de personas que tienen únicamente hijos de género masculino y la última sublista tiene información de personas que tienen hijos tanto de género femenino como másculino. \n",
        "\n",
        "5. Obtener para cada persona entrevistada las emociones sin ordenar y guardar en una lista (una lista por entrevista) con sublistas la siguiente información: en la primera sublista colocar la identificación, el nombre, el género y la edad de la persona entrevistada, en las siguientes sublistas colocar las emociones expresadas por la persona. Por ejemplo, si la persona apareció en 10 fotogramas entonces se deben crear 10 sublistas, cada sublista pertenece a las emociones emitidas por el candidato en un fotograma. \n",
        "\n",
        "6. Una vez creada esta listas (una por entrevista) con sublistas del punto anterior, se debe ordenar las sublistas de forma ascendente por la emoción felicidad (happiness) utilizando el técnica de ordenamiento Quicksort.\n",
        "\n",
        "7. Para cada persona entrevistada muestre un gráfico para comparar las emociones reportadas durante la entrevista.\n",
        "\n",
        "8. Incluya en el documento escrito la entrevista a dos personas. De aportar toda la información recolectada, las imágenes recolectadas en la entrevista con un cuadro en los rostros presentes. Además, debe mostrar la información de las emociones reportadas. También debe mostrar la información del entrevistador y el evaluador.\n",
        "\n",
        "9. Hacer una nueva entrevista a una persona. Una persona existente (previamente almacena en los archivos) puede volver a ser entrevistada. Debe guardar la nueva entrevista en el mismo archivo agregando la información de esta nueva entrevista a la lista de entrevistas de dicha persona. Tome en cuenta que el entrevistador puede ser uno que no le ha realizado ninguna entrevista.\n",
        "\n",
        "10. Agregar una evaluación para indicar si la persona será contratada. Una vez que una persona ha sido entrevistada un evaluador puede revisar toda la información y decir si la persona será contratada (Debe mostrar la información de la persona para que el evaluador la revise y debe aportar una propiedad para la persona que se indica llamada \"estado\" (el estado puede ser entrevistado, contratado y no contratado). Tome en cuenta que el evaluador puede cambiar el estado de la persona para indicar que está contratado o no contratado. \n",
        "\n",
        "\n"
      ],
      "metadata": {
        "id": "VaTzgLRF8rdh"
      }
    },
    {
      "cell_type": "markdown",
      "source": [
        "### Consulta 1\n"
      ],
      "metadata": {
        "id": "XJK_d3EJfgSJ"
      }
    },
    {
      "cell_type": "code",
      "source": [
        "def consulta1():\n",
        "  with open(\"Archivo_Entrevistado\", \"rb\") as f:\n",
        "    entrevistados = pickle.load(f)\n",
        "    for entrevistado in entrevistados:\n",
        "      print(f\"\\nEntrevistador: {entrevistado.entrevistador}\")\n",
        "      print(f\"\\nNombre: {entrevistado.name}\")\n",
        "      print(f\"Identificacion: {entrevistado.ide}\")\n",
        "      print(f\"Fecha de Nacimiento: {entrevistado.date_of_birth}\")\n",
        "      print(f\"Lugar de Nacimiento: {entrevistado.nationality}\")\n",
        "      print(f\"Numeros de Telefono: {entrevistado.phone_numbers}\")\n",
        "      print(f\"Correos electronicos: {entrevistado.emails}\")\n",
        "      print(f\"Direccion: {entrevistado.direction}\")\n",
        "      print(f\"Estado civil: {entrevistado.civil_state}\")\n",
        "      print(f\"Cantidad de hijos: {entrevistado.cont_child}\")\n",
        "      child = entrevistado.children\n",
        "      images = entrevistado.image\n",
        "      lista = child.get(f\"hijo\")\n",
        "\n",
        "      if len(child) != 0:\n",
        "        for niño in lista:\n",
        "          gender = niño.get('genero')\n",
        "          print(\"   Gender:\", gender)\n",
        "          birth = niño.get('nacimiento')\n",
        "          print(\"   Date birth: \",birth)\n",
        "          print(\"   -----------\")\n",
        "\n",
        "      \n",
        "    \n",
        "      info = images.get(\"Image_info\")\n",
        "      print(\"Image Info:\")\n",
        "      print()\n",
        "      for f in info:\n",
        "          print(\" Image path:\", f[0] )\n",
        "          print(\" Emotion:\", f[1])\n",
        "          print(\" Ubication:\", f[2])\n",
        "          print(\"--------------------------------------------------------------------------\")\n",
        "\n",
        "      \n",
        "consulta1()"
      ],
      "metadata": {
        "id": "_-nN0Mrwfib8"
      },
      "execution_count": null,
      "outputs": []
    },
    {
      "cell_type": "markdown",
      "source": [
        "### Consulta 2"
      ],
      "metadata": {
        "id": "hMrKMZx4gAPu"
      }
    },
    {
      "cell_type": "code",
      "source": [
        "def consulta2():\n",
        "    \"\"\"\n",
        "    This function will do the same as the previous query, but this one will \n",
        "    sort people by their age in ascending order.\n",
        "    \"\"\"\n",
        "    with open(\"Archivo_Entrevistado\", \"rb\") as f:\n",
        "        entrevistados = pickle.load(f)\n",
        "\n",
        "    lista = []\n",
        "    lista2 = []\n",
        "    temp = 0\n",
        "    edades_procesadas = set()\n",
        "\n",
        "    # Adds the person's years to a temporary list:\n",
        "    for entrevista in entrevistados:\n",
        "        years = entrevista.age\n",
        "        lista.append(years)\n",
        "\n",
        "    # Order the years:\n",
        "    ordenado = ordenamiento_insercion(lista)\n",
        "\n",
        "    # Checks if the ordered list and people's years match the list and sorts them\n",
        "    for x in ordenado:\n",
        "        for entrevista in entrevistados:\n",
        "            years = entrevista.age\n",
        "            if x == years and years not in edades_procesadas:\n",
        "                lista2.append(entrevista)\n",
        "        edades_procesadas.add(x)\n",
        "\n",
        "    for entrevistado in lista2:\n",
        "        print(f\"\\nNombre: {entrevistado.name}\")\n",
        "        print(f\"Identificacion: {entrevistado.ide}\")\n",
        "        print(f\"Fecha de Nacimiento: {entrevistado.date_of_birth}\")\n",
        "        print(f\"Edad: {entrevistado.age}\")\n",
        "        print(f\"Lugar de Nacimiento: {entrevistado.nationality}\")\n",
        "        print(f\"Numeros de Telefono: {entrevistado.phone_numbers}\")\n",
        "        print(f\"Correos electronicos: {entrevistado.emails}\")\n",
        "        print(f\"Direccion: {entrevistado.direction}\")\n",
        "        print(f\"Estado civil: {entrevistado.civil_state}\")\n",
        "        print(f\"Cantidad de hijos: {entrevistado.cont_child}\")\n",
        "        child = entrevistado.children\n",
        "        images = entrevistado.image\n",
        "        c2 = 0\n",
        "        lista = child.get(f\"hijo\")\n",
        "\n",
        "        if len(child) != 0:\n",
        "            for niño in lista:\n",
        "                gender = niño.get('genero')\n",
        "                print(\"   Gender:\", gender)\n",
        "                birth = niño.get('nacimiento')\n",
        "                print(\"   Date birth: \",birth)\n",
        "                print(\"   -----------\")\n",
        "\n",
        "        info = images.get(\"Image_info\")\n",
        "        print(\"Image Info:\")\n",
        "        print()\n",
        "        for f in info:\n",
        "            print(\" Image path:\", f[0])\n",
        "            print(\" Emotion:\", f[1])\n",
        "            print(\" Ubication:\", f[2])\n",
        "            print(\"--------------------------------------------------------------------------\")\n",
        "\n",
        "consulta2()"
      ],
      "metadata": {
        "id": "_PTOiHo2gB8A"
      },
      "execution_count": null,
      "outputs": []
    },
    {
      "cell_type": "markdown",
      "source": [
        "### Consulta 3"
      ],
      "metadata": {
        "id": "pceqWlWQr8zd"
      }
    },
    {
      "cell_type": "code",
      "source": [
        "def consulta3():\n",
        "    \"\"\"\n",
        "    This function will show the information of all interviewed people, ordered\n",
        "    in descending order by the number of children using the bubble sort algorithm.\n",
        "    It will also display the collected images, recognized emotions for each image,\n",
        "    and the coordinates of the faces.\n",
        "    \"\"\"\n",
        "\n",
        "    with open(\"Archivo_Entrevistado\", \"rb\") as f:\n",
        "        entrevistados = pickle.load(f)\n",
        "\n",
        "    lista = []\n",
        "    lista2 = []\n",
        "    hijos_procesados = set()\n",
        "\n",
        "    # Adds the number of children to a temporary list\n",
        "    for entrevista in entrevistados:\n",
        "        cont = entrevista.cont_child\n",
        "        lista.append(cont)\n",
        "\n",
        "    # Order the children using bubble sort\n",
        "    ordenamiento_burbuja(lista)\n",
        "\n",
        "    # Match the ordered list with the people's number of children and sort them\n",
        "    for x in lista:\n",
        "        for entrevista in entrevistados:\n",
        "            cont = entrevista.cont_child\n",
        "            if x == cont and cont not in hijos_procesados:\n",
        "                lista2.append(entrevista)\n",
        "        hijos_procesados.add(x)\n",
        "\n",
        "    for entrevistado in lista2:\n",
        "        print(f\"\\nNombre: {entrevistado.name}\")\n",
        "        print(f\"Identificacion: {entrevistado.ide}\")\n",
        "        print(f\"Fecha de Nacimiento: {entrevistado.date_of_birth}\")\n",
        "        print(f\"Edad: {entrevistado.age}\")\n",
        "        print(f\"Lugar de Nacimiento: {entrevistado.nationality}\")\n",
        "        print(f\"Numeros de Telefono: {entrevistado.phone_numbers}\")\n",
        "        print(f\"Correos electronicos: {entrevistado.emails}\")\n",
        "        print(f\"Direccion: {entrevistado.direction}\")\n",
        "        print(f\"Estado civil: {entrevistado.civil_state}\")\n",
        "        print(f\"Cantidad de hijos: {entrevistado.cont_child}\")\n",
        "\n",
        "        child = entrevistado.children\n",
        "        images = entrevistado.image\n",
        "\n",
        "        if len(child) != 0:\n",
        "            for niño in child[\"hijo\"]:\n",
        "                gender = niño.get('genero')\n",
        "                print(\"   Gender:\", gender)\n",
        "                birth = niño.get('nacimiento')\n",
        "                print(\"   Date birth:\", birth)\n",
        "                print(\"   -----------\")\n",
        "\n",
        "        print(\"--------------------------------------------------------------------------\")\n",
        "        print(\"Image Info:\")\n",
        "        print()\n",
        "\n",
        "        if images is not None:\n",
        "            for image_info in images[\"Image_info\"]:\n",
        "                print(\" Image path:\", image_info[0])\n",
        "                print(\" Emotion:\", image_info[1])\n",
        "                print(\" Ubication:\", image_info[2])\n",
        "                print(\"--------------------------------------------------------------------------\")\n",
        "\n",
        "consulta3()"
      ],
      "metadata": {
        "id": "E2nqAa5Pr_GB"
      },
      "execution_count": null,
      "outputs": []
    },
    {
      "cell_type": "markdown",
      "source": [
        "###Consulta 4"
      ],
      "metadata": {
        "id": "7zBpT72gr5hi"
      }
    },
    {
      "cell_type": "code",
      "source": [
        "def consulta4():\n",
        "    with open(\"Archivo_Entrevistado\", \"rb\") as f:\n",
        "        entrevistados = pickle.load(f)\n",
        "\n",
        "    lista = []\n",
        "    lista2 = set()  # Utilizamos un conjunto en lugar de una lista temporal\n",
        "    temp = 0\n",
        "\n",
        "    # Agregamos el número de hijos de cada persona a la lista\n",
        "    for entrevista in entrevistados:\n",
        "        cont = entrevista.cont_child\n",
        "        lista.append(cont)\n",
        "\n",
        "    # Ordenamos la lista de número de hijos utilizando quicksort\n",
        "    ordenado = ordenamiento_quickSort(lista)\n",
        "    ordenado.sort(reverse=True)\n",
        "\n",
        "    # Verificamos si la lista ordenada y el número de hijos de las personas coinciden y las agregamos al conjunto\n",
        "    for x in ordenado:\n",
        "        for entrevista in entrevistados:\n",
        "            cont = entrevista.cont_child\n",
        "            if x == cont:\n",
        "                lista2.add(entrevista)\n",
        "\n",
        "    for entrevistado in lista2:\n",
        "        print(f\"\\nNombre: {entrevistado.name}\")\n",
        "        print(f\"Identificacion: {entrevistado.ide}\")\n",
        "        print(f\"Fecha de Nacimiento: {entrevistado.date_of_birth}\")\n",
        "        print(f\"Edad: {entrevistado.age}\")\n",
        "        print(f\"Lugar de Nacimiento: {entrevistado.nationality}\")\n",
        "        print(f\"Numeros de Telefono: {entrevistado.phone_numbers}\")\n",
        "        print(f\"Correos electronicos: {entrevistado.emails}\")\n",
        "        print(f\"Direccion: {entrevistado.direction}\")\n",
        "        print(f\"Estado civil: {entrevistado.civil_state}\")\n",
        "        print(f\"Cantidad de hijos: {entrevistado.cont_child}\")\n",
        "        child = entrevistado.children\n",
        "        images = entrevistado.image\n",
        "        c2 = 0\n",
        "        lista = child.get(f\"hijo\")\n",
        "\n",
        "        if len(child) != 0:\n",
        "            for niño in lista:\n",
        "                gender = niño.get('genero')\n",
        "                print(\"   Gender:\", gender)\n",
        "                birth = niño.get('nacimiento')\n",
        "                print(\"   Date birth: \", birth)\n",
        "                print(\"   -----------\")\n",
        "        print(\"--------------------------------------------------------------------------\")\n",
        "\n",
        "        info = images.get(\"Image_info\")\n",
        "        print(\"Image Info:\")\n",
        "        print()\n",
        "        for f in info:\n",
        "            print(\" Image path:\", f[0])\n",
        "            print(\" Emotion:\", f[1])\n",
        "            print(\" Ubication:\", f[2])\n",
        "            print(\"--------------------------------------------------------------------------\")\n",
        "\n",
        "    sublista_femenina = []\n",
        "    sublista_masculina = []\n",
        "    sublista_mixta = []\n",
        "\n",
        "    # Put people who have children only of the female gender into a sublist\n",
        "    for persona in entrevistados:\n",
        "        person = persona.name\n",
        "        child = persona.children\n",
        "        hijos = child.get(\"hijo\")\n",
        "        femenino = True\n",
        "        masculino = False\n",
        "        if hijos != None:\n",
        "            for hijo in hijos:\n",
        "                gender = hijo.get('genero')\n",
        "                if gender == 'Male':\n",
        "                    femenino = False\n",
        "                    masculino = True\n",
        "                    break\n",
        "            # Put the person in the corresponding sublist\n",
        "            if femenino and not masculino:\n",
        "                sublista_femenina.append(person)\n",
        "\n",
        "    # Put people who have children only of the male gender into a sublist\n",
        "    for persona in entrevistados:\n",
        "        person = persona.name\n",
        "        child = persona.children\n",
        "        hijos = child.get(\"hijo\")\n",
        "        femenino = False\n",
        "        masculino = True\n",
        "        if hijos != None:\n",
        "            for hijo in hijos:\n",
        "                gender = hijo.get('genero')\n",
        "                if gender == 'Female':\n",
        "                    femenino = True\n",
        "                    masculino = False\n",
        "                    break\n",
        "            # Put the person in the corresponding sublist\n",
        "            if not femenino and masculino:\n",
        "                sublista_masculina.append(person)\n",
        "\n",
        "    # Put people who have children of different genders into a sublist\n",
        "    for persona in entrevistados:\n",
        "        person = persona.name\n",
        "        child = persona.children\n",
        "        hijos = child.get(\"hijo\")\n",
        "        femenino = False\n",
        "        masculino = False\n",
        "        if hijos != None:\n",
        "            for hijo in hijos:\n",
        "                gender = hijo.get('genero')\n",
        "                if gender == 'Female':\n",
        "                    femenino = True\n",
        "                else:\n",
        "                    masculino = True\n",
        "        # Put the person in the corresponding sublist\n",
        "        if femenino and masculino:\n",
        "            sublista_mixta.append(person)\n",
        "\n",
        "    # Print the sublists\n",
        "    print(\"-------------------------\")\n",
        "    print(\"People with female children:\")\n",
        "    for person in sublista_femenina:\n",
        "        print(person)\n",
        "    print()\n",
        "\n",
        "    print(\"People with male children:\")\n",
        "    for person in sublista_masculina:\n",
        "        print(person)\n",
        "    print()\n",
        "\n",
        "    print(\"People with children of different genders:\")\n",
        "    for person in sublista_mixta:\n",
        "        print(person)\n",
        "    print()\n",
        "\n",
        "consulta4()"
      ],
      "metadata": {
        "id": "AiUGpWDmr7CL"
      },
      "execution_count": null,
      "outputs": []
    },
    {
      "cell_type": "markdown",
      "source": [
        "### Consulta 5"
      ],
      "metadata": {
        "id": "2nmVnecnvfL0"
      }
    },
    {
      "cell_type": "code",
      "source": [
        "def consulta5():\n",
        "  with open(\"Archivo_Entrevistado\", \"rb\") as f:\n",
        "    persona = pickle.load(f)\n",
        "\n",
        "  \"\"\"\n",
        "  This for will separate each person, add the person's id, name, gender, \n",
        "  age, and image information in one sublist, and in another sublist\n",
        "  it will add all reported emotions.\"\"\"\n",
        "  global people\n",
        "  people = []\n",
        "\n",
        "  #This for will separate each person\n",
        "  for person in persona:\n",
        "    temp = []\n",
        "    temp2 = []\n",
        "    name = person.name\n",
        "    ide = person.ide\n",
        "    years = person.age\n",
        "    images = person.image\n",
        "    image_info = images.get('Image_info')\n",
        "\n",
        "\n",
        "\n",
        "\n",
        "\n",
        "    # This will add the people data to a temporary list\n",
        "    temp.append(ide)\n",
        "    temp.append(name)\n",
        "    temp.append(years)\n",
        "    \n",
        "    temp2 = []\n",
        "    temp3 = []\n",
        "    \n",
        "    # This will add and create the list with all the information and fix the\n",
        "    # image junk information problem.\n",
        "    for image in image_info:\n",
        "      emotion = image[1]\n",
        " \n",
        "\n",
        "      if emotion == \"m\" or emotion == \"b\":\n",
        "        pass\n",
        "      else:\n",
        "        temp2.append(emotion)\n",
        "        temp3.append(temp2)\n",
        "        temp2 = []\n",
        "    \n",
        "\n",
        "    people.append([temp] + [temp3])\n",
        "\n",
        "    \n",
        "  print(people)\n",
        "consulta5()"
      ],
      "metadata": {
        "colab": {
          "base_uri": "https://localhost:8080/"
        },
        "id": "WsDLOW1zvghr",
        "outputId": "388d742c-6741-4765-ec90-ecf4814f9895"
      },
      "execution_count": null,
      "outputs": [
        {
          "output_type": "stream",
          "name": "stdout",
          "text": [
            "Información de la persona: Jan Molina, 208590621, 18\n",
            "Evaluación (contratado/no contratado): no contratado\n",
            "Estado actualizado: no contratado\n",
            "Información de la persona: Luis Mendez, 208530901, 19\n",
            "Evaluación (contratado/no contratado): contratado\n",
            "Estado actualizado: contratado\n",
            "Información de la persona: Nahum Murillo, 208560927, 18\n",
            "Evaluación (contratado/no contratado): contratado\n",
            "Estado actualizado: contratado\n",
            "[[[208590621, 'Jan Molina', '18'], [['neutral'], ['happyness'], ['happyness'], ['happyness'], ['happyness'], ['neutral'], ['happyness'], ['happyness'], ['happyness'], ['happyness'], ['happyness'], ['happyness'], ['happyness'], ['sadness'], ['happyness'], ['happyness'], ['happyness'], ['happyness'], ['happyness'], ['happyness'], ['happyness'], ['happyness'], ['happyness'], ['sadness'], ['happyness']]], [[208530901, 'Luis Mendez', '19'], [['happyness'], ['neutral'], ['neutral'], ['sadness'], ['neutral'], ['happyness'], ['neutral'], ['happyness'], ['happyness'], ['happyness'], ['happyness'], ['happyness'], ['neutral'], ['neutral'], ['neutral'], ['happyness'], ['neutral'], ['neutral'], ['neutral'], ['sadness'], ['neutral'], ['neutral'], ['neutral'], ['neutral'], ['neutral'], ['neutral']]], [[208560927, 'Nahum Murillo', '18'], [['neutral'], ['happyness'], ['happyness'], ['sadness']]]]\n"
          ]
        }
      ]
    },
    {
      "cell_type": "markdown",
      "source": [
        "### Consulta 6"
      ],
      "metadata": {
        "id": "25F78gkK0eQm"
      }
    },
    {
      "cell_type": "code",
      "source": [
        "def quicksort(arr):\n",
        "    if len(arr) <= 1:\n",
        "        return arr\n",
        "    pivot = arr[len(arr) // 2]\n",
        "    left = [x for x in arr if x < pivot]\n",
        "    middle = [x for x in arr if x == pivot]\n",
        "    right = [x for x in arr if x > pivot]\n",
        "    return quicksort(left) + middle + quicksort(right)\n",
        "\n",
        "\n",
        "def consulta6(people):\n",
        "    for x in people:\n",
        "        emociones = x[1]\n",
        "        temp = []\n",
        "        for y in emociones:\n",
        "            valores = y[0]\n",
        "            temp.append(valores)\n",
        "        # Ordena la lista temp utilizando quicksort\n",
        "        temp_sorted = quicksort(temp)\n",
        "        x[1] = temp_sorted\n",
        "    print(people)\n",
        "\n",
        "consulta6(people)"
      ],
      "metadata": {
        "colab": {
          "base_uri": "https://localhost:8080/"
        },
        "id": "EBOEahPd0eAP",
        "outputId": "77b1a809-421c-4461-f7bc-1599ed9ff0ad"
      },
      "execution_count": null,
      "outputs": [
        {
          "output_type": "stream",
          "name": "stdout",
          "text": [
            "[[[208590621, 'Jan Molina', '18'], ['happyness', 'happyness', 'happyness', 'happyness', 'happyness', 'happyness', 'happyness', 'happyness', 'happyness', 'happyness', 'happyness', 'happyness', 'happyness', 'happyness', 'happyness', 'happyness', 'happyness', 'happyness', 'happyness', 'happyness', 'happyness', 'neutral', 'neutral', 'sadness', 'sadness']], [[208530901, 'Luis Mendez', '19'], ['happyness', 'happyness', 'happyness', 'happyness', 'happyness', 'happyness', 'happyness', 'happyness', 'neutral', 'neutral', 'neutral', 'neutral', 'neutral', 'neutral', 'neutral', 'neutral', 'neutral', 'neutral', 'neutral', 'neutral', 'neutral', 'neutral', 'neutral', 'neutral', 'sadness', 'sadness']], [[208560927, 'Nahum Murillo', '18'], ['happyness', 'happyness', 'neutral', 'sadness']]]\n"
          ]
        }
      ]
    },
    {
      "cell_type": "markdown",
      "source": [
        "### Consulta 7"
      ],
      "metadata": {
        "id": "238P_qmt1vvn"
      }
    },
    {
      "cell_type": "code",
      "source": [
        "def consulta7():\n",
        "\n",
        "  with open(\"Archivo_Entrevistado\", \"rb\") as f:\n",
        "      entrevistados = pickle.load(f)\n",
        "  \"\"\"\n",
        "  This function will create a graph to compare all the emotions that\n",
        "  each person had in the interview\n",
        "  \"\"\"\n",
        "\n",
        "  # Each person is going to assign the variables of emotions at 0\n",
        "  for person in entrevistados:\n",
        "    emotions = []\n",
        "    angry = 0\n",
        "    disgust = 0\n",
        "    fear = 0\n",
        "    happyness = 0\n",
        "    sadness = 0\n",
        "    surprise = 0\n",
        "    neutral = 0\n",
        "    images = person.image\n",
        "    image_info = images.get('Image_info')\n",
        "    name = person.name\n",
        "\n",
        "    # To each image, it will query the emotion and add it to a list\n",
        "    for image in image_info:\n",
        "      emotion = image[1]\n",
        "      emotions.append(emotion)\n",
        "\n",
        "    # If that emotion is found, 1 will be added to the variable of that emotion.\n",
        "    for x in emotions:\n",
        "      if x == \"angry\":\n",
        "        angry += 1\n",
        "      elif x == \"disgust\":\n",
        "        disgust += 1\n",
        "      elif x == \"fear\":\n",
        "        fear += 1\n",
        "      elif x == \"happyness\":\n",
        "        happyness += 1\n",
        "      elif x == \"sadness\":\n",
        "        sadness += 1\n",
        "      elif x == \"surprise\":\n",
        "        surprise += 1\n",
        "      elif x == \"neutral\":\n",
        "        neutral += 1\n",
        "\n",
        "    # It will create a graph with the data and with the help of the matplotlib.pyplot library    \n",
        "    nombres = ['angry', 'disgust', 'fear', 'happyness', 'sadness', 'surprise', 'neutral']\n",
        "    valores = [angry, disgust, fear, happyness, sadness, surprise, neutral]\n",
        "    plt.bar(nombres, valores)\n",
        "    plt.title(\"Emotions of \"+ name)\n",
        "    plt.xlabel('Emotions')\n",
        "    plt.ylabel('Cuantity of repetitions')\n",
        "    plt.show()\n",
        "    print(\"______________________________________________________________\")\n",
        "    print()\n",
        "    print()\n",
        "\n",
        "consulta7()"
      ],
      "metadata": {
        "id": "qpIervgr1yqJ"
      },
      "execution_count": null,
      "outputs": []
    },
    {
      "cell_type": "code",
      "source": [
        "def evaluacion_contratacion():\n",
        "    with open(\"Archivo_Entrevistado\", \"rb\") as f:\n",
        "        personas = pickle.load(f)\n",
        "\n",
        "    for persona in personas:\n",
        "        print(\"Información de la persona:\")\n",
        "        print(f\"Nombre: {persona.name}\")\n",
        "        print(f\"Identificación: {persona.ide}\")\n",
        "        print(f\"Edad: {persona.age}\")\n",
        "        # Resto de la información de la persona\n",
        "\n",
        "        # Realizar la evaluación de contratación\n",
        "        evaluacion = input(\"Evaluación (contratado/no contratado): \")\n",
        "        persona.estado = evaluacion\n",
        "        print()\n",
        "        print(\"Estado actualizado:\", persona.estado)\n",
        "        print()\n",
        "        print(\"------------------------------------------\")\n",
        "\n",
        "    # Guardar los cambios en el archivo\n",
        "    with open(\"Archivo_Entrevistado\", \"wb\") as f:\n",
        "        pickle.dump(personas, f)\n",
        "\n",
        "# Llamar a la función para realizar la evaluación y actualizar los estados\n",
        "evaluacion_contratacion()\n"
      ],
      "metadata": {
        "id": "s5iSU-8n7zl_"
      },
      "execution_count": null,
      "outputs": []
    },
    {
      "cell_type": "markdown",
      "source": [
        "## Aspectos administrativos"
      ],
      "metadata": {
        "id": "VYESKZg_IyIM"
      }
    },
    {
      "cell_type": "markdown",
      "source": [
        "\n",
        "* La tarea será desarrollada en equipos de trabajo de máximo 2 personas.\n",
        "* Cualquier acción de plagio será sancionada con una nota de 0 y la carta al expediente respectiva para todos los\n",
        "implicados.\n",
        "* La fecha de entrega será la semana 17, el día de clases, antes de la hora de clases.\n",
        "* Para llevar el control de versiones del proyecto se debe crear un repositorio en GitLab y agregar al profesor (agregarlo\n",
        "a la cuenta amendez.tec@gmail.com).\n",
        "* Para llevar el control del las tareas a realizar por participante en el proyecto debe utilizar la herramienta\n",
        "https://trello.com/es y compartir el link en el mismo Google Doc en que se comparte el link de la plantilla de Overleaf. Pueden crear tab de todas las tareas o requerimientos, un tab para las tareas en proceso y un tab para las tareas hechas.\n",
        "* La codificación y documentación interna deberá ser desarrollada en idioma inglés utilizando el estándar docString de Python.\n",
        "*La documentación externa debe estar redactada en idioma inglés utilizando la herramienta Overleaf (utilizar la plantilla facilitada por el profesor). La documentación es evaluada en el curso de Introducción a la programación.\n",
        "* Documentación del Código utilizando Docstring Conventions \t\n",
        "* Introducción a Python la Guía de Estilo de Código en Python\n",
        "* La entrega será mediante la plataforma TecDigital en el espacio de Proyecto – Etapa 2. Lo que debe subir es un archivo de tipo notebook cuya extensión es (.ipynb). Además, en este archivo deben venir los enlaces a las imagenes utilizados para la tarea.\n",
        "* Se recomienda que se empiece a trabajar lo antes posible.\n",
        "\n"
      ],
      "metadata": {
        "id": "fuFcEU_WI2_w"
      }
    },
    {
      "cell_type": "markdown",
      "source": [
        "# \"La programación es una habilidad que puedes cultivar en ti mismo y usar para cambiar el mundo\". - Barack Obama"
      ],
      "metadata": {
        "id": "7uwbUKqmKhSC"
      }
    }
  ]
}